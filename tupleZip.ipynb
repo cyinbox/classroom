{
 "cells": [
  {
   "cell_type": "code",
   "execution_count": 1,
   "metadata": {},
   "outputs": [
    {
     "name": "stdout",
     "output_type": "stream",
     "text": [
      "(1, 2, 3)\n",
      "(1, 'welcome', 3.4)\n",
      "('flower', 10, [8, 4, 6], (1, 2, 3))\n"
     ]
    }
   ],
   "source": [
    "        \n",
    "#==================================================================================================\n",
    "# Tuple\n",
    "# A tuple is a sequence of immutable Python objects. Tuples are sequences, just like lists. \n",
    "# The differences between tuples and lists are, the tuples cannot be changed. \n",
    "# Unlike lists and tuples use parentheses, whereas lists use square brackets. \n",
    "# We generally use tuple for heterogeneous (different) datatypes and list for homogeneous (similar) datatypes.\n",
    "# Since tuple are immutable, iterating through tuple is faster than with list.\n",
    "\n",
    "# tuple having integers\n",
    "myTuple = (1, 2, 3)\n",
    "print(myTuple)\n",
    "\n",
    "# tuple with mixed datatypes\n",
    "myTuple = (1, \"welcome\", 3.4)\n",
    "print(myTuple)\n",
    "# zip function:\n",
    "    \n",
    "# nested tuple\n",
    "myTuple = (\"flower\",10, [8, 4, 6], (1, 2, 3))\n",
    "print(myTuple)"
   ]
  },
  {
   "cell_type": "code",
   "execution_count": 2,
   "metadata": {},
   "outputs": [
    {
     "name": "stdout",
     "output_type": "stream",
     "text": [
      "[(2, 10), (5, 21), (8, 20), (11, 10)]\n"
     ]
    }
   ],
   "source": [
    "#-----------------------------------------------------------------------------------------------\n",
    "# The zip function  \n",
    "# zip two lists into pairs as in a tuple\n",
    "\n",
    "lsta = [2,5,8,11]\n",
    "lstb = [10,21,20,10]\n",
    "zipped = zip(lsta,lstb)\n",
    "# Convert the zipped tuples into list\n",
    "lstZ = list(zipped)\n",
    "print(lstZ)"
   ]
  },
  {
   "cell_type": "code",
   "execution_count": 3,
   "metadata": {},
   "outputs": [
    {
     "name": "stdout",
     "output_type": "stream",
     "text": [
      "12\n",
      "26\n",
      "28\n",
      "21\n",
      "[12, 26, 28, 21]\n"
     ]
    }
   ],
   "source": [
    "# The element-wise sum of two lists using zip function (buildin function in python)\n",
    "lsta = [2,5,8,11]\n",
    "lstb = [10,21,20,10]\n",
    "sumLists=[]\n",
    "for a, b in zip(lsta,lstb):\n",
    "    s=a+b\n",
    "    sumLists.append(s)\n",
    "    print(s)     ## The element-wise sum of two lists\n",
    "print(sumLists)  ## Note the Indentation makes this line of code is executed after the for block\n"
   ]
  }
 ],
 "metadata": {
  "kernelspec": {
   "display_name": "Python 3",
   "language": "python",
   "name": "python3"
  },
  "language_info": {
   "codemirror_mode": {
    "name": "ipython",
    "version": 3
   },
   "file_extension": ".py",
   "mimetype": "text/x-python",
   "name": "python",
   "nbconvert_exporter": "python",
   "pygments_lexer": "ipython3",
   "version": "3.6.2"
  }
 },
 "nbformat": 4,
 "nbformat_minor": 2
}
