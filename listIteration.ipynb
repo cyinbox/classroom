{
 "cells": [
  {
   "cell_type": "code",
   "execution_count": 8,
   "metadata": {},
   "outputs": [
    {
     "name": "stdout",
     "output_type": "stream",
     "text": [
      "Color: red\n",
      "Color: blue\n",
      "Color: green\n",
      "Color: orange\n",
      "Color: white\n",
      "Color: gray\n"
     ]
    }
   ],
   "source": [
    "# -*- coding: utf-8 -*-\n",
    "\"\"\"\n",
    "Created on Sat Sep  8 15:38:39 2018\n",
    "\n",
    "@author: cyinbox@gmail.com\n",
    "\"\"\"\n",
    "#  Iterate elements in a list\n",
    "\n",
    "#-------------------------------------------------------------------------------------------------\n",
    "# The *for* and *in* constructs are very useful to iterate elements in a list or other collections\n",
    "# The *for* construct -- for var in list -- is an easy way to look at each element in a list. \n",
    "# Note: for <variable> in <sequence>:  # There is a colon : at the end\n",
    "\n",
    "# Example: print each color in the list of colors\n",
    "colors = ['red', 'blue', 'green','orange','white','gray']\n",
    "for color in colors:\n",
    "    print('Color:',color)"
   ]
  },
  {
   "cell_type": "code",
   "execution_count": 3,
   "metadata": {},
   "outputs": [
    {
     "name": "stdout",
     "output_type": "stream",
     "text": [
      "Index in range(0,10) 0\n",
      "Index in range(0,10) 1\n",
      "Index in range(0,10) 2\n",
      "Index in range(0,10) 3\n",
      "Index in range(0,10) 4\n",
      "Index in range(0,10) 5\n",
      "Index in range(0,10) 6\n",
      "Index in range(0,10) 7\n",
      "Index in range(0,10) 8\n",
      "Index in range(0,10) 9\n",
      "Index in range(0,10,2) 0\n",
      "Index in range(0,10,2) 2\n",
      "Index in range(0,10,2) 4\n",
      "Index in range(0,10,2) 6\n",
      "Index in range(0,10,2) 8\n"
     ]
    }
   ],
   "source": [
    "# The range(n) function yields the numbers 0, 1, ... n-1, and range(a, b) returns a, a+1, ... b-1 -- up to but not including the last number. \n",
    "# range(n) is commonly used in looping list. The combination of the for-loop and the range() function allows to access or build a list.\n",
    "\n",
    "# This will print numbers from 0 to 9\n",
    "for i in range(10):  ## or range(0,10)\n",
    "    print('Index in range(0,10)',i) \n",
    "    \n",
    "\n",
    "# This will print numbers from 0 to 9, with step size as 2\n",
    "for i in range(0,10,2):\n",
    "    print('Index in range(0,10,2)',i) \n"
   ]
  },
  {
   "cell_type": "code",
   "execution_count": 5,
   "metadata": {},
   "outputs": [
    {
     "name": "stdout",
     "output_type": "stream",
     "text": [
      "The color at index 0 red\n",
      "The color at index 1 blue\n",
      "The color at index 2 green\n",
      "The color at index 3 orange\n",
      "The color at index 4 white\n",
      "The color at index 5 gray\n"
     ]
    }
   ],
   "source": [
    "# Iterate each element in a list using \"for var in range(0, lengthOfList)\"\n",
    "colors = ['red', 'blue', 'green','orange','white','gray']\n",
    "m=len(colors)\n",
    "for i in range(0,m):  ## Note: range parameters are 0 and length(list) \n",
    "    color = colors[i]\n",
    "    print('The color at index',i,color) ## print the color at index i\n"
   ]
  },
  {
   "cell_type": "code",
   "execution_count": 7,
   "metadata": {},
   "outputs": [
    {
     "name": "stdout",
     "output_type": "stream",
     "text": [
      "not a positive number: 0\n",
      "positive number: 10\n",
      "not a positive number: -10\n",
      "positive number: 19\n",
      "positive number: 20\n",
      "not a positive number: -50\n",
      "positive number: 90\n",
      "not a positive number: -200\n"
     ]
    }
   ],
   "source": [
    "# If...else is a condition, when the if condition is true, the statements in the if block is executed.\n",
    "# Note: there is a colon : at the end\n",
    "\n",
    "# Example, separte the positive and non-positive numbers in the list\n",
    "lista = [0,10,-10,19,20,-50]\n",
    "lista.append(90)\n",
    "lista.append(-200)\n",
    "m = len(lista)\n",
    "\n",
    "for i in range(0,m):\n",
    "    num = lista[i]\n",
    "    if num > 0:\n",
    "        print('positive number:',num)\n",
    "    else:\n",
    "        print('not a positive number:',num)\n",
    "        "
   ]
  }
 ],
 "metadata": {
  "kernelspec": {
   "display_name": "Python 3",
   "language": "python",
   "name": "python3"
  },
  "language_info": {
   "codemirror_mode": {
    "name": "ipython",
    "version": 3
   },
   "file_extension": ".py",
   "mimetype": "text/x-python",
   "name": "python",
   "nbconvert_exporter": "python",
   "pygments_lexer": "ipython3",
   "version": "3.6.2"
  }
 },
 "nbformat": 4,
 "nbformat_minor": 2
}
