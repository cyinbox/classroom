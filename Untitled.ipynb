{
 "cells": [
  {
   "cell_type": "code",
   "execution_count": 1,
   "metadata": {},
   "outputs": [
    {
     "name": "stdout",
     "output_type": "stream",
     "text": [
      "red\n",
      "green\n",
      "gray\n",
      "gray\n"
     ]
    }
   ],
   "source": [
    "#==================================================================================================\n",
    "## Data Structure: List and tuple\n",
    "## for-in iteration\n",
    "## Range\n",
    "\n",
    "#==================================================================================================\n",
    "# List\n",
    "# Python has a great built-in data structure list type named \"list\". List data are written within square brackets [ ].\n",
    "\n",
    "#------------------------------------------------------------------------------\n",
    "# Access elements in a list uses square brackets [ ], with the first element at index 0.\n",
    "colors = ['red', 'blue', 'green','orange','white','gray']\n",
    "print(colors[0])    ## red\n",
    "print(colors[2])    ## green\n",
    "print(colors[-1])   ## gray\n",
    "print(colors[5])   ##gray"
   ]
  }
 ],
 "metadata": {
  "kernelspec": {
   "display_name": "Python 3",
   "language": "python",
   "name": "python3"
  },
  "language_info": {
   "codemirror_mode": {
    "name": "ipython",
    "version": 3
   },
   "file_extension": ".py",
   "mimetype": "text/x-python",
   "name": "python",
   "nbconvert_exporter": "python",
   "pygments_lexer": "ipython3",
   "version": "3.6.2"
  }
 },
 "nbformat": 4,
 "nbformat_minor": 2
}
