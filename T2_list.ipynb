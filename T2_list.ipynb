{
 "cells": [
  {
   "cell_type": "code",
   "execution_count": 9,
   "metadata": {},
   "outputs": [
    {
     "name": "stdout",
     "output_type": "stream",
     "text": [
      "Total number of elements is 6\n",
      "red\n",
      "green\n",
      "gray\n",
      "gray\n"
     ]
    }
   ],
   "source": [
    "# -*- coding: utf-8 -*-\n",
    "\"\"\"\n",
    "Created on Sat Sep  8 15:38:39 2018\n",
    "\n",
    "@author: cyinbox@gmail.com\n",
    "\"\"\"\n",
    "#==================================================================================================\n",
    "## Data structure: List\n",
    "# Python has a great built-in data structure list type named \"list\". List data are written within square brackets [ ].\n",
    "\n",
    "#------------------------------------------------------------------------------\n",
    "# Access elements in a list uses square brackets [ ], with the first element at index 0.\n",
    "colors = ['red', 'blue', 'green','orange','white','gray']\n",
    "\n",
    "# Get the length of a list\n",
    "m=len(colors)\n",
    "print('Total number of elements is',m)  \n",
    "print(colors[0])    \n",
    "print(colors[2])    \n",
    "print(colors[-1])\n",
    "print(colors[5])   \n"
   ]
  },
  {
   "cell_type": "code",
   "execution_count": 10,
   "metadata": {},
   "outputs": [
    {
     "name": "stdout",
     "output_type": "stream",
     "text": [
      "The list slice from 1st to 2nd ['red', 'blue', 'green']\n",
      "The list slice from 2nd to 5th ['blue', 'green', 'orange', 'white', 'gray']\n",
      "Replaced color list: ['R', 'e', 'd', 'B', 'l', 'u', 'e', 'green', 'orange', 'white', 'gray']\n"
     ]
    }
   ],
   "source": [
    "# List slices: get or change sub-parts of the list.\n",
    "colors = ['red', 'blue', 'green','orange','white','gray']\n",
    "print('The list slice from 1st to 2nd', colors[0:3]) \n",
    "print('The list slice from 2nd to 5th', colors[1:6]) \n",
    "\n",
    "colors[0:2] = 'RedBlue'   ## replace 'red', 'blue' with ['RedBlue']\n",
    "print ('Replaced color list:',colors)       \n"
   ]
  },
  {
   "cell_type": "code",
   "execution_count": 11,
   "metadata": {},
   "outputs": [
    {
     "name": "stdout",
     "output_type": "stream",
     "text": [
      "List of names: ['Andrew', 'William', 'Jack', 'Jenney']\n"
     ]
    }
   ],
   "source": [
    "# list build up: To append an element to a list uses by append(), it is frequently used method.\n",
    "# The common approach to build a list fromd data is to start a list a the empty list [], \n",
    "# and then use append() to add elements to it\n",
    "lstNames = []               ## Start as the empty list\n",
    "lstNames.append('Andrew')   ## Use append() to add elements\n",
    "lstNames.append('William')\n",
    "lstNames.append('Jack')\n",
    "lstNames.append('Jenney')\n",
    "print('List of names:',lstNames)"
   ]
  },
  {
   "cell_type": "code",
   "execution_count": 12,
   "metadata": {},
   "outputs": [
    {
     "name": "stdout",
     "output_type": "stream",
     "text": [
      "[2, 5, 8, 11, 10, 21, 20, 10]\n",
      "[1, 3, 5, 7, 10, 12, -9]\n"
     ]
    }
   ],
   "source": [
    "# Concatenate of two lists\n",
    "# This gives a new list that is the concatenation of list1 and list2\n",
    "lsta = [2,5,8,11]\n",
    "lstb = [10,21,20,10]\n",
    "lstab = lsta+lstb\n",
    "print(lstab)#[2,5,8,11,10,21,20,10]\n",
    "\n",
    "# Delete an element at specific position\n",
    "lsta=[1,3,4,5,7,10,12,-9]\n",
    "del(lsta[2])   ## The third element, 4, will be deleted.\n",
    "print(lsta) \n",
    "\n",
    "#-----------------------------------------------------------------------------------------------\n",
    "# Additional functions for a processing a list-\n",
    "# list.append(elem) -- adds a single element to the end of the list. Common error: does not return the new list, just modifies the original.\n",
    "# list.insert(index, elem) -- inserts the element at the given index, shifting elements to the right.\n",
    "# list.extend(list2) adds the elements in list2 to the end of the list. Using + or += on a list is similar to using extend().\n",
    "# list.index(elem) -- searches for the given element from the start of the list and returns its index. Throws a ValueError \n",
    "# if the element does not appear (use \"in\" to check without a ValueError).\n",
    "# list.remove(elem) -- searches for the first instance of the given element and removes it (throws ValueError if not present)\n",
    "# list.sort() -- sorts the list in place (does not return it). (The sorted() function shown later is preferred.)\n",
    "# list.reverse() -- reverses the list in place (does not return it)\n",
    "# list.pop(index) -- removes and returns the element at the given index. Returns the rightmost element if index is omitted (roughly the opposite of append()).\n"
   ]
  },
  {
   "cell_type": "code",
   "execution_count": null,
   "metadata": {
    "collapsed": true
   },
   "outputs": [],
   "source": []
  }
 ],
 "metadata": {
  "kernelspec": {
   "display_name": "Python 3",
   "language": "python",
   "name": "python3"
  },
  "language_info": {
   "codemirror_mode": {
    "name": "ipython",
    "version": 3
   },
   "file_extension": ".py",
   "mimetype": "text/x-python",
   "name": "python",
   "nbconvert_exporter": "python",
   "pygments_lexer": "ipython3",
   "version": "3.6.2"
  }
 },
 "nbformat": 4,
 "nbformat_minor": 2
}
