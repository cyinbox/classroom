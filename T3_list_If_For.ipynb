{
 "cells": [
  {
   "cell_type": "code",
   "execution_count": 19,
   "metadata": {},
   "outputs": [
    {
     "name": "stdout",
     "output_type": "stream",
     "text": [
      "20+5 = 25 20-5 = 15 20*5 = 100 20/5 = 4.0\n",
      "20//15 = 1\n",
      "20%15 = 5\n"
     ]
    }
   ],
   "source": [
    "#----------------------------------------------------------------------------\n",
    "# Lesson 3: 09/16/2018\n",
    "# -Review: list\n",
    "# -MATH operations\n",
    "# -If...elif...elif...else\n",
    "# -for loop\n",
    "\n",
    "#----- MATH operations---------------------------------------------------------\n",
    "# Example 1\n",
    "print('20+5 =',20+5,'20-5 =', 20-5,'20*5 =', 20*5,'20/5 =', 20/5)\n",
    "print('20//15 =',20//15) #// operator is an integer division operator\n",
    "print('20%15 =',20%15)  # The % (modulo) operator yields the remainder from the division of the first argument by the second. T\n"
   ]
  },
  {
   "cell_type": "code",
   "execution_count": 20,
   "metadata": {},
   "outputs": [
    {
     "name": "stdout",
     "output_type": "stream",
     "text": [
      "The sum of integers from 1 to 1000 is 500500\n"
     ]
    }
   ],
   "source": [
    "# Example 2. Add integers from 1 to 10000\n",
    "sumX = 0 #initialize a variable to store the sum\n",
    "for i in range(1,1001): # why 1001? please note 1001 is upper bound in the range, excluded.\n",
    "    sumX = sumX+i\n",
    "print('The sum of integers from 1 to 1000 is',sumX)\n",
    "  \n"
   ]
  },
  {
   "cell_type": "code",
   "execution_count": 21,
   "metadata": {},
   "outputs": [
    {
     "name": "stdout",
     "output_type": "stream",
     "text": [
      "The sum of integers that are multiples of three from 1 to 1000 is 166833\n"
     ]
    }
   ],
   "source": [
    "# Example 3. Add the integers that are multiples of three within 1 to 10000\n",
    "sumY = 0 #initialize a variable to store the sum\n",
    "for i in range(1,1001): # why 1001? please note 1001 is upper bound in the range, excluded.\n",
    "    if i%3 == 0:\n",
    "     sumY = sumY+i        ## note sumX is inside if block\n",
    "print('The sum of integers that are multiples of three from 1 to 1000 is',sumY)\n"
   ]
  },
  {
   "cell_type": "code",
   "execution_count": 22,
   "metadata": {},
   "outputs": [
    {
     "name": "stdout",
     "output_type": "stream",
     "text": [
      "Unique list [10, 20, 30, 50, 60, 40, 80]\n"
     ]
    }
   ],
   "source": [
    "# Example 4.  Get the unique items of a list\n",
    "a = [10,20,30,20,10,50,60,40,80,50,40]\n",
    "\n",
    "uniqItems = []\n",
    "for x in a:\n",
    "    if x not in uniqItems:\n",
    "        uniqItems.append(x)\n",
    "       \n",
    "print('Unique list',uniqItems)"
   ]
  }
 ],
 "metadata": {
  "kernelspec": {
   "display_name": "Python 3",
   "language": "python",
   "name": "python3"
  },
  "language_info": {
   "codemirror_mode": {
    "name": "ipython",
    "version": 3
   },
   "file_extension": ".py",
   "mimetype": "text/x-python",
   "name": "python",
   "nbconvert_exporter": "python",
   "pygments_lexer": "ipython3",
   "version": "3.6.5"
  }
 },
 "nbformat": 4,
 "nbformat_minor": 2
}
